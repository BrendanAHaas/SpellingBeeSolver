{
 "cells": [
  {
   "cell_type": "code",
   "execution_count": 22,
   "metadata": {
    "collapsed": false
   },
   "outputs": [
    {
     "name": "stdout",
     "output_type": "stream",
     "text": [
      "  WordList\n",
      "4    aahed\n",
      "5   aahing\n",
      "6     aahs\n",
      "8    aalii\n",
      "9   aaliis\n",
      "What is the center letter?  i\n",
      "What are the other 6 letters? Input them without spaces, e.g. abcdef)  yndklu\n",
      "Your input letters: ['y', 'n', 'd', 'k', 'l', 'u', 'i']\n",
      "Your center letter is: i\n",
      "These are the valid words for the Spelling Bee provided:\n",
      "['diddy', 'didy', 'didn', 'dikdik', 'dill', 'dilli', 'dilly', 'dink', 'dinky', 'dinkly', 'dunlin', 'idyl', 'idyll', 'idly', 'yildun', 'yill', 'illy', 'indy', 'indii', 'indyl', 'indin', 'indn', 'indulin', 'inky', 'inly', 'inulin', 'yuki', 'kiddy', 'kiyi', 'kiki', 'kikki', 'kiku', 'kikuyu', 'kylin', 'kill', 'killy', 'kiln', 'kind', 'kindly', 'kindlily', 'kinin', 'kink', 'kinky', 'kinkily', 'kinkly', 'kinnikinnik', 'kuki', 'kukui', 'kuli', 'liin', 'likin', 'lily', 'lill', 'lilly', 'lind', 'lindy', 'liny', 'linin', 'link', 'linky', 'linn', 'liukiu', 'nidi', 'nidudi', 'niduli', 'nikkud', 'nill', 'ninny', 'nudnik', 'nunki', 'nunni', 'uily', 'undid', 'unidly', 'uninn', 'unkid', 'unkill', 'unkin', 'unkind', 'unkindly', 'unkindlily', 'unkink', 'unlid', 'unlink']\n"
     ]
    }
   ],
   "source": [
    "#This code is used to solve The New York Times' daily Spelling Bee game using a list of all English words\n",
    "#This list already has all proper nouns removed, to abide by the rules of the game\n",
    "import pandas as pd\n",
    "import sys\n",
    "\n",
    "#Grab our dictionary of words, turn it into a DataFrame object, and view it\n",
    "Dictionary = pd.read_csv('words_alpha.txt')\n",
    "#Only take words 4 letters long or longer; the rest aren't worth points\n",
    "Dictionary = Dictionary[(Dictionary.WordList.str.len() > 3)]\n",
    "#Remove null values, they don't help in the analysis\n",
    "Dictionary = Dictionary.dropna()\n",
    "\n",
    "#Get a view of our dictionary for sanity checks\n",
    "#print(Dictionary.head())\n",
    "\n",
    "CenterLetter = input(\"What is the center letter?  \")\n",
    "#Check to make sure only 1 character was entered\n",
    "if len(CenterLetter) != 1:\n",
    "    sys.exit(\"Input a single character!\")\n",
    "#Ensure only letters, and no other characters e.g. ! or 7, are entered\n",
    "if CenterLetter.isalpha() == False:\n",
    "    sys.exit(\"Please only input letters!\")\n",
    "#We need our letters lowercase to match the values in our dictionary\n",
    "CenterLetter = CenterLetter.lower()\n",
    "\n",
    "OtherLetters = input(\"What are the other 6 letters? Input them without spaces, e.g. abcdef)  \")\n",
    "#Perform same checks as above\n",
    "if len(OtherLetters) != 6:\n",
    "    sys.exit(\"Input exactly 6 letters!\")\n",
    "if OtherLetters.isalpha() == False:\n",
    "    sys.exit(\"Please only input letters!\")\n",
    "OtherLetters = OtherLetters.lower()\n",
    "\n",
    "#Combine all our letters into a list\n",
    "TotalLetters = OtherLetters+CenterLetter\n",
    "LetterList = list(TotalLetters)\n",
    "#Verify that 7 unique letters were entered\n",
    "if len(LetterList) != len(set(LetterList)):\n",
    "    sys.exit(\"Please don't put any letter more than once!\")\n",
    "\n",
    "print(\"Your input letters: \" + str(LetterList))\n",
    "print(\"Your center letter is: \" + CenterLetter)\n",
    "#Now we can search for words that match our 7 input letters, and also always contain the center letter\n",
    "\n",
    "#Grab all entries that contain the center letter; words that don't contain the center letter are invalid\n",
    "CenterLetterWords = Dictionary[Dictionary['WordList'].str.contains(CenterLetter)]\n",
    "#Now we verify that the words only contain letters from our 7 letter list\n",
    "WordList = []\n",
    "for word in CenterLetterWords['WordList']:\n",
    "    if set(word) - set(TotalLetters) == set(): \n",
    "        WordList.append(word)\n",
    "\n",
    "print(\"These are the valid words for the Spelling Bee provided:\")\n",
    "print(WordList)\n",
    "#Note:  This is not a very good word dictionary. Better results will be obtained with a better dictionary file."
   ]
  },
  {
   "cell_type": "code",
   "execution_count": 25,
   "metadata": {
    "collapsed": false
   },
   "outputs": [
    {
     "name": "stdout",
     "output_type": "stream",
     "text": [
      "{'c'}\n",
      "set()\n"
     ]
    }
   ],
   "source": [
    "#Quick demonstration of how sets work, to help illustrate how the above code succeeds\n",
    "set1 = set('abc')\n",
    "set2 = set('abd')\n",
    "set3 = set1 - set2\n",
    "print(set3)\n",
    "\n",
    "set1 = set('abcdefg')\n",
    "set2 = set('aceg')\n",
    "set3 = set2 - set1\n",
    "print(set3)"
   ]
  },
  {
   "cell_type": "code",
   "execution_count": null,
   "metadata": {
    "collapsed": true
   },
   "outputs": [],
   "source": []
  }
 ],
 "metadata": {
  "kernelspec": {
   "display_name": "Python 3",
   "language": "python",
   "name": "python3"
  },
  "language_info": {
   "codemirror_mode": {
    "name": "ipython",
    "version": 3
   },
   "file_extension": ".py",
   "mimetype": "text/x-python",
   "name": "python",
   "nbconvert_exporter": "python",
   "pygments_lexer": "ipython3",
   "version": "3.5.2"
  }
 },
 "nbformat": 4,
 "nbformat_minor": 0
}
